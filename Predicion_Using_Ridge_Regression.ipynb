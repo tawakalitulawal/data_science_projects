{
 "cells": [
  {
   "cell_type": "code",
   "execution_count": 1,
   "id": "2239b0ba",
   "metadata": {},
   "outputs": [],
   "source": [
    "import pandas as pd\n",
    "import numpy as np\n",
    "import matplotlib.pyplot as plt\n",
    "from sklearn.model_selection import train_test_split\n",
    "from sklearn.metrics import mean_absolute_error,mean_squared_error\n",
    "from sklearn.linear_model import Ridge\n",
    "import seaborn as sns\n",
    "from sklearn.pipeline import make_pipeline\n",
    "from category_encoders import OrdinalEncoder, OneHotEncoder"
   ]
  },
  {
   "cell_type": "markdown",
   "id": "db256961",
   "metadata": {},
   "source": [
    "### Reading the data\n"
   ]
  },
  {
   "cell_type": "code",
   "execution_count": null,
   "id": "be512d9a",
   "metadata": {},
   "outputs": [],
   "source": []
  },
  {
   "cell_type": "code",
   "execution_count": 19,
   "id": "7711ecfb",
   "metadata": {
    "collapsed": true
   },
   "outputs": [
    {
     "data": {
      "text/html": [
       "<div>\n",
       "<style scoped>\n",
       "    .dataframe tbody tr th:only-of-type {\n",
       "        vertical-align: middle;\n",
       "    }\n",
       "\n",
       "    .dataframe tbody tr th {\n",
       "        vertical-align: top;\n",
       "    }\n",
       "\n",
       "    .dataframe thead th {\n",
       "        text-align: right;\n",
       "    }\n",
       "</style>\n",
       "<table border=\"1\" class=\"dataframe\">\n",
       "  <thead>\n",
       "    <tr style=\"text-align: right;\">\n",
       "      <th></th>\n",
       "      <th>id</th>\n",
       "      <th>Date</th>\n",
       "      <th>number of bedrooms</th>\n",
       "      <th>number of bathrooms</th>\n",
       "      <th>living area</th>\n",
       "      <th>lot area</th>\n",
       "      <th>number of floors</th>\n",
       "      <th>waterfront present</th>\n",
       "      <th>number of views</th>\n",
       "      <th>condition of the house</th>\n",
       "      <th>...</th>\n",
       "      <th>Built Year</th>\n",
       "      <th>Renovation Year</th>\n",
       "      <th>Postal Code</th>\n",
       "      <th>Lattitude</th>\n",
       "      <th>Longitude</th>\n",
       "      <th>living_area_renov</th>\n",
       "      <th>lot_area_renov</th>\n",
       "      <th>Number of schools nearby</th>\n",
       "      <th>Distance from the airport</th>\n",
       "      <th>Price</th>\n",
       "    </tr>\n",
       "  </thead>\n",
       "  <tbody>\n",
       "    <tr>\n",
       "      <th>0</th>\n",
       "      <td>6762810635</td>\n",
       "      <td>42491</td>\n",
       "      <td>4</td>\n",
       "      <td>2.50</td>\n",
       "      <td>2920</td>\n",
       "      <td>4000</td>\n",
       "      <td>1.5</td>\n",
       "      <td>0</td>\n",
       "      <td>0</td>\n",
       "      <td>5</td>\n",
       "      <td>...</td>\n",
       "      <td>1909</td>\n",
       "      <td>0</td>\n",
       "      <td>122004</td>\n",
       "      <td>52.8878</td>\n",
       "      <td>-114.470</td>\n",
       "      <td>2470</td>\n",
       "      <td>4000</td>\n",
       "      <td>2</td>\n",
       "      <td>51</td>\n",
       "      <td>1400000</td>\n",
       "    </tr>\n",
       "    <tr>\n",
       "      <th>1</th>\n",
       "      <td>6762810998</td>\n",
       "      <td>42491</td>\n",
       "      <td>5</td>\n",
       "      <td>2.75</td>\n",
       "      <td>2910</td>\n",
       "      <td>9480</td>\n",
       "      <td>1.5</td>\n",
       "      <td>0</td>\n",
       "      <td>0</td>\n",
       "      <td>3</td>\n",
       "      <td>...</td>\n",
       "      <td>1939</td>\n",
       "      <td>0</td>\n",
       "      <td>122004</td>\n",
       "      <td>52.8852</td>\n",
       "      <td>-114.468</td>\n",
       "      <td>2940</td>\n",
       "      <td>6600</td>\n",
       "      <td>1</td>\n",
       "      <td>53</td>\n",
       "      <td>1200000</td>\n",
       "    </tr>\n",
       "    <tr>\n",
       "      <th>2</th>\n",
       "      <td>6762812605</td>\n",
       "      <td>42491</td>\n",
       "      <td>4</td>\n",
       "      <td>2.50</td>\n",
       "      <td>3310</td>\n",
       "      <td>42998</td>\n",
       "      <td>2.0</td>\n",
       "      <td>0</td>\n",
       "      <td>0</td>\n",
       "      <td>3</td>\n",
       "      <td>...</td>\n",
       "      <td>2001</td>\n",
       "      <td>0</td>\n",
       "      <td>122005</td>\n",
       "      <td>52.9532</td>\n",
       "      <td>-114.321</td>\n",
       "      <td>3350</td>\n",
       "      <td>42847</td>\n",
       "      <td>3</td>\n",
       "      <td>76</td>\n",
       "      <td>838000</td>\n",
       "    </tr>\n",
       "    <tr>\n",
       "      <th>3</th>\n",
       "      <td>6762812919</td>\n",
       "      <td>42491</td>\n",
       "      <td>3</td>\n",
       "      <td>2.00</td>\n",
       "      <td>2710</td>\n",
       "      <td>4500</td>\n",
       "      <td>1.5</td>\n",
       "      <td>0</td>\n",
       "      <td>0</td>\n",
       "      <td>4</td>\n",
       "      <td>...</td>\n",
       "      <td>1929</td>\n",
       "      <td>0</td>\n",
       "      <td>122006</td>\n",
       "      <td>52.9047</td>\n",
       "      <td>-114.485</td>\n",
       "      <td>2060</td>\n",
       "      <td>4500</td>\n",
       "      <td>1</td>\n",
       "      <td>51</td>\n",
       "      <td>805000</td>\n",
       "    </tr>\n",
       "    <tr>\n",
       "      <th>4</th>\n",
       "      <td>6762813105</td>\n",
       "      <td>42491</td>\n",
       "      <td>3</td>\n",
       "      <td>2.50</td>\n",
       "      <td>2600</td>\n",
       "      <td>4750</td>\n",
       "      <td>1.0</td>\n",
       "      <td>0</td>\n",
       "      <td>0</td>\n",
       "      <td>4</td>\n",
       "      <td>...</td>\n",
       "      <td>1951</td>\n",
       "      <td>0</td>\n",
       "      <td>122007</td>\n",
       "      <td>52.9133</td>\n",
       "      <td>-114.590</td>\n",
       "      <td>2380</td>\n",
       "      <td>4750</td>\n",
       "      <td>1</td>\n",
       "      <td>67</td>\n",
       "      <td>790000</td>\n",
       "    </tr>\n",
       "    <tr>\n",
       "      <th>...</th>\n",
       "      <td>...</td>\n",
       "      <td>...</td>\n",
       "      <td>...</td>\n",
       "      <td>...</td>\n",
       "      <td>...</td>\n",
       "      <td>...</td>\n",
       "      <td>...</td>\n",
       "      <td>...</td>\n",
       "      <td>...</td>\n",
       "      <td>...</td>\n",
       "      <td>...</td>\n",
       "      <td>...</td>\n",
       "      <td>...</td>\n",
       "      <td>...</td>\n",
       "      <td>...</td>\n",
       "      <td>...</td>\n",
       "      <td>...</td>\n",
       "      <td>...</td>\n",
       "      <td>...</td>\n",
       "      <td>...</td>\n",
       "      <td>...</td>\n",
       "    </tr>\n",
       "    <tr>\n",
       "      <th>14614</th>\n",
       "      <td>6762830250</td>\n",
       "      <td>42734</td>\n",
       "      <td>2</td>\n",
       "      <td>1.50</td>\n",
       "      <td>1556</td>\n",
       "      <td>20000</td>\n",
       "      <td>1.0</td>\n",
       "      <td>0</td>\n",
       "      <td>0</td>\n",
       "      <td>4</td>\n",
       "      <td>...</td>\n",
       "      <td>1957</td>\n",
       "      <td>0</td>\n",
       "      <td>122066</td>\n",
       "      <td>52.6191</td>\n",
       "      <td>-114.472</td>\n",
       "      <td>2250</td>\n",
       "      <td>17286</td>\n",
       "      <td>3</td>\n",
       "      <td>76</td>\n",
       "      <td>221700</td>\n",
       "    </tr>\n",
       "    <tr>\n",
       "      <th>14615</th>\n",
       "      <td>6762830339</td>\n",
       "      <td>42734</td>\n",
       "      <td>3</td>\n",
       "      <td>2.00</td>\n",
       "      <td>1680</td>\n",
       "      <td>7000</td>\n",
       "      <td>1.5</td>\n",
       "      <td>0</td>\n",
       "      <td>0</td>\n",
       "      <td>4</td>\n",
       "      <td>...</td>\n",
       "      <td>1968</td>\n",
       "      <td>0</td>\n",
       "      <td>122072</td>\n",
       "      <td>52.5075</td>\n",
       "      <td>-114.393</td>\n",
       "      <td>1540</td>\n",
       "      <td>7480</td>\n",
       "      <td>3</td>\n",
       "      <td>59</td>\n",
       "      <td>219200</td>\n",
       "    </tr>\n",
       "    <tr>\n",
       "      <th>14616</th>\n",
       "      <td>6762830618</td>\n",
       "      <td>42734</td>\n",
       "      <td>2</td>\n",
       "      <td>1.00</td>\n",
       "      <td>1070</td>\n",
       "      <td>6120</td>\n",
       "      <td>1.0</td>\n",
       "      <td>0</td>\n",
       "      <td>0</td>\n",
       "      <td>3</td>\n",
       "      <td>...</td>\n",
       "      <td>1962</td>\n",
       "      <td>0</td>\n",
       "      <td>122056</td>\n",
       "      <td>52.7289</td>\n",
       "      <td>-114.507</td>\n",
       "      <td>1130</td>\n",
       "      <td>6120</td>\n",
       "      <td>2</td>\n",
       "      <td>64</td>\n",
       "      <td>209000</td>\n",
       "    </tr>\n",
       "    <tr>\n",
       "      <th>14617</th>\n",
       "      <td>6762830709</td>\n",
       "      <td>42734</td>\n",
       "      <td>4</td>\n",
       "      <td>1.00</td>\n",
       "      <td>1030</td>\n",
       "      <td>6621</td>\n",
       "      <td>1.0</td>\n",
       "      <td>0</td>\n",
       "      <td>0</td>\n",
       "      <td>4</td>\n",
       "      <td>...</td>\n",
       "      <td>1955</td>\n",
       "      <td>0</td>\n",
       "      <td>122042</td>\n",
       "      <td>52.7157</td>\n",
       "      <td>-114.411</td>\n",
       "      <td>1420</td>\n",
       "      <td>6631</td>\n",
       "      <td>3</td>\n",
       "      <td>54</td>\n",
       "      <td>205000</td>\n",
       "    </tr>\n",
       "    <tr>\n",
       "      <th>14618</th>\n",
       "      <td>6762831463</td>\n",
       "      <td>42734</td>\n",
       "      <td>3</td>\n",
       "      <td>1.00</td>\n",
       "      <td>900</td>\n",
       "      <td>4770</td>\n",
       "      <td>1.0</td>\n",
       "      <td>0</td>\n",
       "      <td>0</td>\n",
       "      <td>3</td>\n",
       "      <td>...</td>\n",
       "      <td>1969</td>\n",
       "      <td>2009</td>\n",
       "      <td>122018</td>\n",
       "      <td>52.5338</td>\n",
       "      <td>-114.552</td>\n",
       "      <td>900</td>\n",
       "      <td>3480</td>\n",
       "      <td>2</td>\n",
       "      <td>55</td>\n",
       "      <td>146000</td>\n",
       "    </tr>\n",
       "  </tbody>\n",
       "</table>\n",
       "<p>14619 rows × 23 columns</p>\n",
       "</div>"
      ],
      "text/plain": [
       "               id   Date  number of bedrooms  number of bathrooms  \\\n",
       "0      6762810635  42491                   4                 2.50   \n",
       "1      6762810998  42491                   5                 2.75   \n",
       "2      6762812605  42491                   4                 2.50   \n",
       "3      6762812919  42491                   3                 2.00   \n",
       "4      6762813105  42491                   3                 2.50   \n",
       "...           ...    ...                 ...                  ...   \n",
       "14614  6762830250  42734                   2                 1.50   \n",
       "14615  6762830339  42734                   3                 2.00   \n",
       "14616  6762830618  42734                   2                 1.00   \n",
       "14617  6762830709  42734                   4                 1.00   \n",
       "14618  6762831463  42734                   3                 1.00   \n",
       "\n",
       "       living area  lot area  number of floors  waterfront present  \\\n",
       "0             2920      4000               1.5                   0   \n",
       "1             2910      9480               1.5                   0   \n",
       "2             3310     42998               2.0                   0   \n",
       "3             2710      4500               1.5                   0   \n",
       "4             2600      4750               1.0                   0   \n",
       "...            ...       ...               ...                 ...   \n",
       "14614         1556     20000               1.0                   0   \n",
       "14615         1680      7000               1.5                   0   \n",
       "14616         1070      6120               1.0                   0   \n",
       "14617         1030      6621               1.0                   0   \n",
       "14618          900      4770               1.0                   0   \n",
       "\n",
       "       number of views  condition of the house  ...  Built Year  \\\n",
       "0                    0                       5  ...        1909   \n",
       "1                    0                       3  ...        1939   \n",
       "2                    0                       3  ...        2001   \n",
       "3                    0                       4  ...        1929   \n",
       "4                    0                       4  ...        1951   \n",
       "...                ...                     ...  ...         ...   \n",
       "14614                0                       4  ...        1957   \n",
       "14615                0                       4  ...        1968   \n",
       "14616                0                       3  ...        1962   \n",
       "14617                0                       4  ...        1955   \n",
       "14618                0                       3  ...        1969   \n",
       "\n",
       "       Renovation Year  Postal Code  Lattitude  Longitude  living_area_renov  \\\n",
       "0                    0       122004    52.8878   -114.470               2470   \n",
       "1                    0       122004    52.8852   -114.468               2940   \n",
       "2                    0       122005    52.9532   -114.321               3350   \n",
       "3                    0       122006    52.9047   -114.485               2060   \n",
       "4                    0       122007    52.9133   -114.590               2380   \n",
       "...                ...          ...        ...        ...                ...   \n",
       "14614                0       122066    52.6191   -114.472               2250   \n",
       "14615                0       122072    52.5075   -114.393               1540   \n",
       "14616                0       122056    52.7289   -114.507               1130   \n",
       "14617                0       122042    52.7157   -114.411               1420   \n",
       "14618             2009       122018    52.5338   -114.552                900   \n",
       "\n",
       "       lot_area_renov  Number of schools nearby  Distance from the airport  \\\n",
       "0                4000                         2                         51   \n",
       "1                6600                         1                         53   \n",
       "2               42847                         3                         76   \n",
       "3                4500                         1                         51   \n",
       "4                4750                         1                         67   \n",
       "...               ...                       ...                        ...   \n",
       "14614           17286                         3                         76   \n",
       "14615            7480                         3                         59   \n",
       "14616            6120                         2                         64   \n",
       "14617            6631                         3                         54   \n",
       "14618            3480                         2                         55   \n",
       "\n",
       "         Price  \n",
       "0      1400000  \n",
       "1      1200000  \n",
       "2       838000  \n",
       "3       805000  \n",
       "4       790000  \n",
       "...        ...  \n",
       "14614   221700  \n",
       "14615   219200  \n",
       "14616   209000  \n",
       "14617   205000  \n",
       "14618   146000  \n",
       "\n",
       "[14619 rows x 23 columns]"
      ]
     },
     "execution_count": 19,
     "metadata": {},
     "output_type": "execute_result"
    }
   ],
   "source": [
    "df = pd.read_csv(\"House Price India.csv\")\n",
    "df"
   ]
  },
  {
   "cell_type": "markdown",
   "id": "6affc533",
   "metadata": {},
   "source": [
    "### Checking for null values"
   ]
  },
  {
   "cell_type": "code",
   "execution_count": 31,
   "id": "c5fff79b",
   "metadata": {
    "scrolled": true
   },
   "outputs": [
    {
     "data": {
      "text/plain": [
       "id                               0\n",
       "date                             0\n",
       "number_of_bedrooms               0\n",
       "number_of_bathrooms              0\n",
       "living_area                      0\n",
       "lot_area                         0\n",
       "number_of_floors                 0\n",
       "waterfront_present               0\n",
       "number_of_views                  0\n",
       "condition_of_the_house           0\n",
       "grade_of_the_house               0\n",
       "house_area_excluding_basement    0\n",
       "basement_area                    0\n",
       "built_year                       0\n",
       "renovation_year                  0\n",
       "postal_code                      0\n",
       "lattitude                        0\n",
       "longitude                        0\n",
       "living_area_renov                0\n",
       "lot_area_renov                   0\n",
       "number_of_schools_nearby         0\n",
       "distance_from_the_airport        0\n",
       "price                            0\n",
       "dtype: int64"
      ]
     },
     "execution_count": 31,
     "metadata": {},
     "output_type": "execute_result"
    }
   ],
   "source": [
    "df.isnull().sum()"
   ]
  },
  {
   "cell_type": "markdown",
   "id": "4d05b0ee",
   "metadata": {},
   "source": [
    "### Cleaning the column headers and renaming columns"
   ]
  },
  {
   "cell_type": "code",
   "execution_count": 20,
   "id": "8d327f15",
   "metadata": {},
   "outputs": [],
   "source": [
    "df.columns = df.columns.str.lower().str.replace(\" \",\"_\")"
   ]
  },
  {
   "cell_type": "code",
   "execution_count": 22,
   "id": "42d66085",
   "metadata": {},
   "outputs": [],
   "source": [
    "df.rename(columns = {\"area_of_the_house(excluding_basement)\":\"house_area_excluding_basement\"},inplace=True)"
   ]
  },
  {
   "cell_type": "code",
   "execution_count": 21,
   "id": "2cf7162e",
   "metadata": {},
   "outputs": [],
   "source": [
    "df.rename(columns = {\"area_of_the_basement\":\"basement_area\"},inplace=True)"
   ]
  },
  {
   "cell_type": "code",
   "execution_count": 24,
   "id": "55a88731",
   "metadata": {},
   "outputs": [
    {
     "data": {
      "text/plain": [
       "Index(['id', 'date', 'number_of_bedrooms', 'number_of_bathrooms',\n",
       "       'living_area', 'lot_area', 'number_of_floors', 'waterfront_present',\n",
       "       'number_of_views', 'condition_of_the_house', 'grade_of_the_house',\n",
       "       'house_area_excluding_basement', 'basement_area', 'built_year',\n",
       "       'renovation_year', 'postal_code', 'lattitude', 'longitude',\n",
       "       'living_area_renov', 'lot_area_renov', 'number_of_schools_nearby',\n",
       "       'distance_from_the_airport', 'price'],\n",
       "      dtype='object')"
      ]
     },
     "execution_count": 24,
     "metadata": {},
     "output_type": "execute_result"
    }
   ],
   "source": [
    "df.columns"
   ]
  },
  {
   "cell_type": "markdown",
   "id": "11018335",
   "metadata": {},
   "source": [
    "### Checking and Excluding Outliers\n"
   ]
  },
  {
   "cell_type": "code",
   "execution_count": 25,
   "id": "daea2a68",
   "metadata": {
    "scrolled": false
   },
   "outputs": [
    {
     "data": {
      "text/plain": [
       "<Axes: >"
      ]
     },
     "execution_count": 25,
     "metadata": {},
     "output_type": "execute_result"
    },
    {
     "data": {
      "image/png": "[encoded data removed]",
      "text/plain": [
       "<Figure size 640x480 with 1 Axes>"
      ]
     },
     "metadata": {},
     "output_type": "display_data"
    }
   ],
   "source": [
    "df.price.plot(kind = \"box\")"
   ]
  },
  {
   "cell_type": "code",
   "execution_count": 26,
   "id": "e91d46c2",
   "metadata": {},
   "outputs": [
    {
     "data": {
      "text/plain": [
       "1132500.0"
      ]
     },
     "execution_count": 26,
     "metadata": {},
     "output_type": "execute_result"
    }
   ],
   "source": [
    "q3 = df.price.quantile(0.75)\n",
    "q1 = df.price.quantile(0.25)\n",
    "iqr = q3 - q1\n",
    "max_value = q3 + 1.5 * iqr\n",
    "\n",
    "max_value"
   ]
  },
  {
   "cell_type": "code",
   "execution_count": 27,
   "id": "227fc47a",
   "metadata": {},
   "outputs": [
    {
     "data": {
      "text/html": [
       "<div>\n",
       "<style scoped>\n",
       "    .dataframe tbody tr th:only-of-type {\n",
       "        vertical-align: middle;\n",
       "    }\n",
       "\n",
       "    .dataframe tbody tr th {\n",
       "        vertical-align: top;\n",
       "    }\n",
       "\n",
       "    .dataframe thead th {\n",
       "        text-align: right;\n",
       "    }\n",
       "</style>\n",
       "<table border=\"1\" class=\"dataframe\">\n",
       "  <thead>\n",
       "    <tr style=\"text-align: right;\">\n",
       "      <th></th>\n",
       "      <th>id</th>\n",
       "      <th>date</th>\n",
       "      <th>number_of_bedrooms</th>\n",
       "      <th>number_of_bathrooms</th>\n",
       "      <th>living_area</th>\n",
       "      <th>lot_area</th>\n",
       "      <th>number_of_floors</th>\n",
       "      <th>waterfront_present</th>\n",
       "      <th>number_of_views</th>\n",
       "      <th>condition_of_the_house</th>\n",
       "      <th>...</th>\n",
       "      <th>built_year</th>\n",
       "      <th>renovation_year</th>\n",
       "      <th>postal_code</th>\n",
       "      <th>lattitude</th>\n",
       "      <th>longitude</th>\n",
       "      <th>living_area_renov</th>\n",
       "      <th>lot_area_renov</th>\n",
       "      <th>number_of_schools_nearby</th>\n",
       "      <th>distance_from_the_airport</th>\n",
       "      <th>price</th>\n",
       "    </tr>\n",
       "  </thead>\n",
       "  <tbody>\n",
       "    <tr>\n",
       "      <th>2</th>\n",
       "      <td>6762812605</td>\n",
       "      <td>42491</td>\n",
       "      <td>4</td>\n",
       "      <td>2.50</td>\n",
       "      <td>3310</td>\n",
       "      <td>42998</td>\n",
       "      <td>2.0</td>\n",
       "      <td>0</td>\n",
       "      <td>0</td>\n",
       "      <td>3</td>\n",
       "      <td>...</td>\n",
       "      <td>2001</td>\n",
       "      <td>0</td>\n",
       "      <td>122005</td>\n",
       "      <td>52.9532</td>\n",
       "      <td>-114.321</td>\n",
       "      <td>3350</td>\n",
       "      <td>42847</td>\n",
       "      <td>3</td>\n",
       "      <td>76</td>\n",
       "      <td>838000</td>\n",
       "    </tr>\n",
       "    <tr>\n",
       "      <th>3</th>\n",
       "      <td>6762812919</td>\n",
       "      <td>42491</td>\n",
       "      <td>3</td>\n",
       "      <td>2.00</td>\n",
       "      <td>2710</td>\n",
       "      <td>4500</td>\n",
       "      <td>1.5</td>\n",
       "      <td>0</td>\n",
       "      <td>0</td>\n",
       "      <td>4</td>\n",
       "      <td>...</td>\n",
       "      <td>1929</td>\n",
       "      <td>0</td>\n",
       "      <td>122006</td>\n",
       "      <td>52.9047</td>\n",
       "      <td>-114.485</td>\n",
       "      <td>2060</td>\n",
       "      <td>4500</td>\n",
       "      <td>1</td>\n",
       "      <td>51</td>\n",
       "      <td>805000</td>\n",
       "    </tr>\n",
       "    <tr>\n",
       "      <th>4</th>\n",
       "      <td>6762813105</td>\n",
       "      <td>42491</td>\n",
       "      <td>3</td>\n",
       "      <td>2.50</td>\n",
       "      <td>2600</td>\n",
       "      <td>4750</td>\n",
       "      <td>1.0</td>\n",
       "      <td>0</td>\n",
       "      <td>0</td>\n",
       "      <td>4</td>\n",
       "      <td>...</td>\n",
       "      <td>1951</td>\n",
       "      <td>0</td>\n",
       "      <td>122007</td>\n",
       "      <td>52.9133</td>\n",
       "      <td>-114.590</td>\n",
       "      <td>2380</td>\n",
       "      <td>4750</td>\n",
       "      <td>1</td>\n",
       "      <td>67</td>\n",
       "      <td>790000</td>\n",
       "    </tr>\n",
       "    <tr>\n",
       "      <th>5</th>\n",
       "      <td>6762813157</td>\n",
       "      <td>42491</td>\n",
       "      <td>5</td>\n",
       "      <td>3.25</td>\n",
       "      <td>3660</td>\n",
       "      <td>11995</td>\n",
       "      <td>2.0</td>\n",
       "      <td>0</td>\n",
       "      <td>2</td>\n",
       "      <td>3</td>\n",
       "      <td>...</td>\n",
       "      <td>2006</td>\n",
       "      <td>0</td>\n",
       "      <td>122008</td>\n",
       "      <td>52.7637</td>\n",
       "      <td>-114.050</td>\n",
       "      <td>3320</td>\n",
       "      <td>11241</td>\n",
       "      <td>3</td>\n",
       "      <td>72</td>\n",
       "      <td>785000</td>\n",
       "    </tr>\n",
       "    <tr>\n",
       "      <th>6</th>\n",
       "      <td>6762813599</td>\n",
       "      <td>42491</td>\n",
       "      <td>3</td>\n",
       "      <td>1.75</td>\n",
       "      <td>2240</td>\n",
       "      <td>10578</td>\n",
       "      <td>2.0</td>\n",
       "      <td>0</td>\n",
       "      <td>0</td>\n",
       "      <td>5</td>\n",
       "      <td>...</td>\n",
       "      <td>1923</td>\n",
       "      <td>0</td>\n",
       "      <td>122006</td>\n",
       "      <td>52.9254</td>\n",
       "      <td>-114.482</td>\n",
       "      <td>1570</td>\n",
       "      <td>10578</td>\n",
       "      <td>3</td>\n",
       "      <td>71</td>\n",
       "      <td>750000</td>\n",
       "    </tr>\n",
       "    <tr>\n",
       "      <th>...</th>\n",
       "      <td>...</td>\n",
       "      <td>...</td>\n",
       "      <td>...</td>\n",
       "      <td>...</td>\n",
       "      <td>...</td>\n",
       "      <td>...</td>\n",
       "      <td>...</td>\n",
       "      <td>...</td>\n",
       "      <td>...</td>\n",
       "      <td>...</td>\n",
       "      <td>...</td>\n",
       "      <td>...</td>\n",
       "      <td>...</td>\n",
       "      <td>...</td>\n",
       "      <td>...</td>\n",
       "      <td>...</td>\n",
       "      <td>...</td>\n",
       "      <td>...</td>\n",
       "      <td>...</td>\n",
       "      <td>...</td>\n",
       "      <td>...</td>\n",
       "    </tr>\n",
       "    <tr>\n",
       "      <th>14614</th>\n",
       "      <td>6762830250</td>\n",
       "      <td>42734</td>\n",
       "      <td>2</td>\n",
       "      <td>1.50</td>\n",
       "      <td>1556</td>\n",
       "      <td>20000</td>\n",
       "      <td>1.0</td>\n",
       "      <td>0</td>\n",
       "      <td>0</td>\n",
       "      <td>4</td>\n",
       "      <td>...</td>\n",
       "      <td>1957</td>\n",
       "      <td>0</td>\n",
       "      <td>122066</td>\n",
       "      <td>52.6191</td>\n",
       "      <td>-114.472</td>\n",
       "      <td>2250</td>\n",
       "      <td>17286</td>\n",
       "      <td>3</td>\n",
       "      <td>76</td>\n",
       "      <td>221700</td>\n",
       "    </tr>\n",
       "    <tr>\n",
       "      <th>14615</th>\n",
       "      <td>6762830339</td>\n",
       "      <td>42734</td>\n",
       "      <td>3</td>\n",
       "      <td>2.00</td>\n",
       "      <td>1680</td>\n",
       "      <td>7000</td>\n",
       "      <td>1.5</td>\n",
       "      <td>0</td>\n",
       "      <td>0</td>\n",
       "      <td>4</td>\n",
       "      <td>...</td>\n",
       "      <td>1968</td>\n",
       "      <td>0</td>\n",
       "      <td>122072</td>\n",
       "      <td>52.5075</td>\n",
       "      <td>-114.393</td>\n",
       "      <td>1540</td>\n",
       "      <td>7480</td>\n",
       "      <td>3</td>\n",
       "      <td>59</td>\n",
       "      <td>219200</td>\n",
       "    </tr>\n",
       "    <tr>\n",
       "      <th>14616</th>\n",
       "      <td>6762830618</td>\n",
       "      <td>42734</td>\n",
       "      <td>2</td>\n",
       "      <td>1.00</td>\n",
       "      <td>1070</td>\n",
       "      <td>6120</td>\n",
       "      <td>1.0</td>\n",
       "      <td>0</td>\n",
       "      <td>0</td>\n",
       "      <td>3</td>\n",
       "      <td>...</td>\n",
       "      <td>1962</td>\n",
       "      <td>0</td>\n",
       "      <td>122056</td>\n",
       "      <td>52.7289</td>\n",
       "      <td>-114.507</td>\n",
       "      <td>1130</td>\n",
       "      <td>6120</td>\n",
       "      <td>2</td>\n",
       "      <td>64</td>\n",
       "      <td>209000</td>\n",
       "    </tr>\n",
       "    <tr>\n",
       "      <th>14617</th>\n",
       "      <td>6762830709</td>\n",
       "      <td>42734</td>\n",
       "      <td>4</td>\n",
       "      <td>1.00</td>\n",
       "      <td>1030</td>\n",
       "      <td>6621</td>\n",
       "      <td>1.0</td>\n",
       "      <td>0</td>\n",
       "      <td>0</td>\n",
       "      <td>4</td>\n",
       "      <td>...</td>\n",
       "      <td>1955</td>\n",
       "      <td>0</td>\n",
       "      <td>122042</td>\n",
       "      <td>52.7157</td>\n",
       "      <td>-114.411</td>\n",
       "      <td>1420</td>\n",
       "      <td>6631</td>\n",
       "      <td>3</td>\n",
       "      <td>54</td>\n",
       "      <td>205000</td>\n",
       "    </tr>\n",
       "    <tr>\n",
       "      <th>14618</th>\n",
       "      <td>6762831463</td>\n",
       "      <td>42734</td>\n",
       "      <td>3</td>\n",
       "      <td>1.00</td>\n",
       "      <td>900</td>\n",
       "      <td>4770</td>\n",
       "      <td>1.0</td>\n",
       "      <td>0</td>\n",
       "      <td>0</td>\n",
       "      <td>3</td>\n",
       "      <td>...</td>\n",
       "      <td>1969</td>\n",
       "      <td>2009</td>\n",
       "      <td>122018</td>\n",
       "      <td>52.5338</td>\n",
       "      <td>-114.552</td>\n",
       "      <td>900</td>\n",
       "      <td>3480</td>\n",
       "      <td>2</td>\n",
       "      <td>55</td>\n",
       "      <td>146000</td>\n",
       "    </tr>\n",
       "  </tbody>\n",
       "</table>\n",
       "<p>13859 rows × 23 columns</p>\n",
       "</div>"
      ],
      "text/plain": [
       "               id   date  number_of_bedrooms  number_of_bathrooms  \\\n",
       "2      6762812605  42491                   4                 2.50   \n",
       "3      6762812919  42491                   3                 2.00   \n",
       "4      6762813105  42491                   3                 2.50   \n",
       "5      6762813157  42491                   5                 3.25   \n",
       "6      6762813599  42491                   3                 1.75   \n",
       "...           ...    ...                 ...                  ...   \n",
       "14614  6762830250  42734                   2                 1.50   \n",
       "14615  6762830339  42734                   3                 2.00   \n",
       "14616  6762830618  42734                   2                 1.00   \n",
       "14617  6762830709  42734                   4                 1.00   \n",
       "14618  6762831463  42734                   3                 1.00   \n",
       "\n",
       "       living_area  lot_area  number_of_floors  waterfront_present  \\\n",
       "2             3310     42998               2.0                   0   \n",
       "3             2710      4500               1.5                   0   \n",
       "4             2600      4750               1.0                   0   \n",
       "5             3660     11995               2.0                   0   \n",
       "6             2240     10578               2.0                   0   \n",
       "...            ...       ...               ...                 ...   \n",
       "14614         1556     20000               1.0                   0   \n",
       "14615         1680      7000               1.5                   0   \n",
       "14616         1070      6120               1.0                   0   \n",
       "14617         1030      6621               1.0                   0   \n",
       "14618          900      4770               1.0                   0   \n",
       "\n",
       "       number_of_views  condition_of_the_house  ...  built_year  \\\n",
       "2                    0                       3  ...        2001   \n",
       "3                    0                       4  ...        1929   \n",
       "4                    0                       4  ...        1951   \n",
       "5                    2                       3  ...        2006   \n",
       "6                    0                       5  ...        1923   \n",
       "...                ...                     ...  ...         ...   \n",
       "14614                0                       4  ...        1957   \n",
       "14615                0                       4  ...        1968   \n",
       "14616                0                       3  ...        1962   \n",
       "14617                0                       4  ...        1955   \n",
       "14618                0                       3  ...        1969   \n",
       "\n",
       "       renovation_year  postal_code  lattitude  longitude  living_area_renov  \\\n",
       "2                    0       122005    52.9532   -114.321               3350   \n",
       "3                    0       122006    52.9047   -114.485               2060   \n",
       "4                    0       122007    52.9133   -114.590               2380   \n",
       "5                    0       122008    52.7637   -114.050               3320   \n",
       "6                    0       122006    52.9254   -114.482               1570   \n",
       "...                ...          ...        ...        ...                ...   \n",
       "14614                0       122066    52.6191   -114.472               2250   \n",
       "14615                0       122072    52.5075   -114.393               1540   \n",
       "14616                0       122056    52.7289   -114.507               1130   \n",
       "14617                0       122042    52.7157   -114.411               1420   \n",
       "14618             2009       122018    52.5338   -114.552                900   \n",
       "\n",
       "       lot_area_renov  number_of_schools_nearby  distance_from_the_airport  \\\n",
       "2               42847                         3                         76   \n",
       "3                4500                         1                         51   \n",
       "4                4750                         1                         67   \n",
       "5               11241                         3                         72   \n",
       "6               10578                         3                         71   \n",
       "...               ...                       ...                        ...   \n",
       "14614           17286                         3                         76   \n",
       "14615            7480                         3                         59   \n",
       "14616            6120                         2                         64   \n",
       "14617            6631                         3                         54   \n",
       "14618            3480                         2                         55   \n",
       "\n",
       "        price  \n",
       "2      838000  \n",
       "3      805000  \n",
       "4      790000  \n",
       "5      785000  \n",
       "6      750000  \n",
       "...       ...  \n",
       "14614  221700  \n",
       "14615  219200  \n",
       "14616  209000  \n",
       "14617  205000  \n",
       "14618  146000  \n",
       "\n",
       "[13859 rows x 23 columns]"
      ]
     },
     "execution_count": 27,
     "metadata": {},
     "output_type": "execute_result"
    }
   ],
   "source": [
    "mask_price = df.price <= max_value\n",
    "df1 = df[mask_price]\n",
    "\n",
    "df1"
   ]
  },
  {
   "cell_type": "code",
   "execution_count": 28,
   "id": "f82db7e2",
   "metadata": {},
   "outputs": [
    {
     "data": {
      "text/plain": [
       "<Axes: >"
      ]
     },
     "execution_count": 28,
     "metadata": {},
     "output_type": "execute_result"
    },
    {
     "data": {
      "image/png": "[encoded data removed]",
      "text/plain": [
       "<Figure size 640x480 with 1 Axes>"
      ]
     },
     "metadata": {},
     "output_type": "display_data"
    }
   ],
   "source": [
    "df1.price.plot(kind = \"box\")"
   ]
  },
  {
   "cell_type": "markdown",
   "id": "f4588dcb",
   "metadata": {},
   "source": [
    "### Splitting the Data"
   ]
  },
  {
   "cell_type": "code",
   "execution_count": 32,
   "id": "1c6cd28a",
   "metadata": {},
   "outputs": [],
   "source": [
    "X = df1.drop(columns = ['price'])\n",
    "y = df1.price"
   ]
  },
  {
   "cell_type": "code",
   "execution_count": 33,
   "id": "6dfaa210",
   "metadata": {},
   "outputs": [],
   "source": [
    "X_train, X_test, y_train, y_test = train_test_split(X, y, test_size = 0.2, random_state=42)"
   ]
  },
  {
   "cell_type": "markdown",
   "id": "3861a09b",
   "metadata": {},
   "source": [
    "### Baseline Prediction"
   ]
  },
  {
   "cell_type": "code",
   "execution_count": 35,
   "id": "45191e6f",
   "metadata": {},
   "outputs": [],
   "source": [
    "y_mean = y_train.mean()\n",
    "y_pred_base = [y_mean] * len(y_train)"
   ]
  },
  {
   "cell_type": "code",
   "execution_count": 37,
   "id": "1e34defc",
   "metadata": {},
   "outputs": [
    {
     "data": {
      "text/plain": [
       "168996.23629773228"
      ]
     },
     "execution_count": 37,
     "metadata": {},
     "output_type": "execute_result"
    }
   ],
   "source": [
    "mae_baseline = mean_absolute_error(y_pred_base,y_train)\n",
    "mae_baseline"
   ]
  },
  {
   "cell_type": "markdown",
   "id": "d07312b4",
   "metadata": {},
   "source": [
    "### Training and Fitting the Ridge Regression Model"
   ]
  },
  {
   "cell_type": "code",
   "execution_count": 40,
   "id": "9b0d42c6",
   "metadata": {},
   "outputs": [],
   "source": [
    "model = Ridge()"
   ]
  },
  {
   "cell_type": "code",
   "execution_count": 41,
   "id": "5971c823",
   "metadata": {},
   "outputs": [
    {
     "data": {
      "text/html": [
       "<style>#sk-container-id-1 {color: black;background-color: white;}#sk-container-id-1 pre{padding: 0;}#sk-container-id-1 div.sk-toggleable {background-color: white;}#sk-container-id-1 label.sk-toggleable__label {cursor: pointer;display: block;width: 100%;margin-bottom: 0;padding: 0.3em;box-sizing: border-box;text-align: center;}#sk-container-id-1 label.sk-toggleable__label-arrow:before {content: \"▸\";float: left;margin-right: 0.25em;color: #696969;}#sk-container-id-1 label.sk-toggleable__label-arrow:hover:before {color: black;}#sk-container-id-1 div.sk-estimator:hover label.sk-toggleable__label-arrow:before {color: black;}#sk-container-id-1 div.sk-toggleable__content {max-height: 0;max-width: 0;overflow: hidden;text-align: left;background-color: #f0f8ff;}#sk-container-id-1 div.sk-toggleable__content pre {margin: 0.2em;color: black;border-radius: 0.25em;background-color: #f0f8ff;}#sk-container-id-1 input.sk-toggleable__control:checked~div.sk-toggleable__content {max-height: 200px;max-width: 100%;overflow: auto;}#sk-container-id-1 input.sk-toggleable__control:checked~label.sk-toggleable__label-arrow:before {content: \"▾\";}#sk-container-id-1 div.sk-estimator input.sk-toggleable__control:checked~label.sk-toggleable__label {background-color: #d4ebff;}#sk-container-id-1 div.sk-label input.sk-toggleable__control:checked~label.sk-toggleable__label {background-color: #d4ebff;}#sk-container-id-1 input.sk-hidden--visually {border: 0;clip: rect(1px 1px 1px 1px);clip: rect(1px, 1px, 1px, 1px);height: 1px;margin: -1px;overflow: hidden;padding: 0;position: absolute;width: 1px;}#sk-container-id-1 div.sk-estimator {font-family: monospace;background-color: #f0f8ff;border: 1px dotted black;border-radius: 0.25em;box-sizing: border-box;margin-bottom: 0.5em;}#sk-container-id-1 div.sk-estimator:hover {background-color: #d4ebff;}#sk-container-id-1 div.sk-parallel-item::after {content: \"\";width: 100%;border-bottom: 1px solid gray;flex-grow: 1;}#sk-container-id-1 div.sk-label:hover label.sk-toggleable__label {background-color: #d4ebff;}#sk-container-id-1 div.sk-serial::before {content: \"\";position: absolute;border-left: 1px solid gray;box-sizing: border-box;top: 0;bottom: 0;left: 50%;z-index: 0;}#sk-container-id-1 div.sk-serial {display: flex;flex-direction: column;align-items: center;background-color: white;padding-right: 0.2em;padding-left: 0.2em;position: relative;}#sk-container-id-1 div.sk-item {position: relative;z-index: 1;}#sk-container-id-1 div.sk-parallel {display: flex;align-items: stretch;justify-content: center;background-color: white;position: relative;}#sk-container-id-1 div.sk-item::before, #sk-container-id-1 div.sk-parallel-item::before {content: \"\";position: absolute;border-left: 1px solid gray;box-sizing: border-box;top: 0;bottom: 0;left: 50%;z-index: -1;}#sk-container-id-1 div.sk-parallel-item {display: flex;flex-direction: column;z-index: 1;position: relative;background-color: white;}#sk-container-id-1 div.sk-parallel-item:first-child::after {align-self: flex-end;width: 50%;}#sk-container-id-1 div.sk-parallel-item:last-child::after {align-self: flex-start;width: 50%;}#sk-container-id-1 div.sk-parallel-item:only-child::after {width: 0;}#sk-container-id-1 div.sk-dashed-wrapped {border: 1px dashed gray;margin: 0 0.4em 0.5em 0.4em;box-sizing: border-box;padding-bottom: 0.4em;background-color: white;}#sk-container-id-1 div.sk-label label {font-family: monospace;font-weight: bold;display: inline-block;line-height: 1.2em;}#sk-container-id-1 div.sk-label-container {text-align: center;}#sk-container-id-1 div.sk-container {/* jupyter's `normalize.less` sets `[hidden] { display: none; }` but bootstrap.min.css set `[hidden] { display: none !important; }` so we also need the `!important` here to be able to override the default hidden behavior on the sphinx rendered scikit-learn.org. See: https://github.com/scikit-learn/scikit-learn/issues/21755 */display: inline-block !important;position: relative;}#sk-container-id-1 div.sk-text-repr-fallback {display: none;}</style><div id=\"sk-container-id-1\" class=\"sk-top-container\"><div class=\"sk-text-repr-fallback\"><pre>Ridge()</pre><b>In a Jupyter environment, please rerun this cell to show the HTML representation or trust the notebook. <br />On GitHub, the HTML representation is unable to render, please try loading this page with nbviewer.org.</b></div><div class=\"sk-container\" hidden><div class=\"sk-item\"><div class=\"sk-estimator sk-toggleable\"><input class=\"sk-toggleable__control sk-hidden--visually\" id=\"sk-estimator-id-1\" type=\"checkbox\" checked><label for=\"sk-estimator-id-1\" class=\"sk-toggleable__label sk-toggleable__label-arrow\">Ridge</label><div class=\"sk-toggleable__content\"><pre>Ridge()</pre></div></div></div></div></div>"
      ],
      "text/plain": [
       "Ridge()"
      ]
     },
     "execution_count": 41,
     "metadata": {},
     "output_type": "execute_result"
    }
   ],
   "source": [
    "model.fit(X_train,y_train)"
   ]
  },
  {
   "cell_type": "code",
   "execution_count": 42,
   "id": "fa941e03",
   "metadata": {},
   "outputs": [],
   "source": [
    "y_pred = model.predict(X_train)"
   ]
  },
  {
   "cell_type": "code",
   "execution_count": 44,
   "id": "9e953016",
   "metadata": {},
   "outputs": [
    {
     "data": {
      "text/plain": [
       "36855.40777632482"
      ]
     },
     "execution_count": 44,
     "metadata": {},
     "output_type": "execute_result"
    }
   ],
   "source": [
    "mae_train = mean_absolute_error(y_pred, y_train)\n",
    "mae_train"
   ]
  },
  {
   "cell_type": "markdown",
   "id": "09819ba8",
   "metadata": {},
   "source": [
    "### Testing the Model"
   ]
  },
  {
   "cell_type": "code",
   "execution_count": 46,
   "id": "1f939cd1",
   "metadata": {},
   "outputs": [
    {
     "data": {
      "text/html": [
       "<style>#sk-container-id-2 {color: black;background-color: white;}#sk-container-id-2 pre{padding: 0;}#sk-container-id-2 div.sk-toggleable {background-color: white;}#sk-container-id-2 label.sk-toggleable__label {cursor: pointer;display: block;width: 100%;margin-bottom: 0;padding: 0.3em;box-sizing: border-box;text-align: center;}#sk-container-id-2 label.sk-toggleable__label-arrow:before {content: \"▸\";float: left;margin-right: 0.25em;color: #696969;}#sk-container-id-2 label.sk-toggleable__label-arrow:hover:before {color: black;}#sk-container-id-2 div.sk-estimator:hover label.sk-toggleable__label-arrow:before {color: black;}#sk-container-id-2 div.sk-toggleable__content {max-height: 0;max-width: 0;overflow: hidden;text-align: left;background-color: #f0f8ff;}#sk-container-id-2 div.sk-toggleable__content pre {margin: 0.2em;color: black;border-radius: 0.25em;background-color: #f0f8ff;}#sk-container-id-2 input.sk-toggleable__control:checked~div.sk-toggleable__content {max-height: 200px;max-width: 100%;overflow: auto;}#sk-container-id-2 input.sk-toggleable__control:checked~label.sk-toggleable__label-arrow:before {content: \"▾\";}#sk-container-id-2 div.sk-estimator input.sk-toggleable__control:checked~label.sk-toggleable__label {background-color: #d4ebff;}#sk-container-id-2 div.sk-label input.sk-toggleable__control:checked~label.sk-toggleable__label {background-color: #d4ebff;}#sk-container-id-2 input.sk-hidden--visually {border: 0;clip: rect(1px 1px 1px 1px);clip: rect(1px, 1px, 1px, 1px);height: 1px;margin: -1px;overflow: hidden;padding: 0;position: absolute;width: 1px;}#sk-container-id-2 div.sk-estimator {font-family: monospace;background-color: #f0f8ff;border: 1px dotted black;border-radius: 0.25em;box-sizing: border-box;margin-bottom: 0.5em;}#sk-container-id-2 div.sk-estimator:hover {background-color: #d4ebff;}#sk-container-id-2 div.sk-parallel-item::after {content: \"\";width: 100%;border-bottom: 1px solid gray;flex-grow: 1;}#sk-container-id-2 div.sk-label:hover label.sk-toggleable__label {background-color: #d4ebff;}#sk-container-id-2 div.sk-serial::before {content: \"\";position: absolute;border-left: 1px solid gray;box-sizing: border-box;top: 0;bottom: 0;left: 50%;z-index: 0;}#sk-container-id-2 div.sk-serial {display: flex;flex-direction: column;align-items: center;background-color: white;padding-right: 0.2em;padding-left: 0.2em;position: relative;}#sk-container-id-2 div.sk-item {position: relative;z-index: 1;}#sk-container-id-2 div.sk-parallel {display: flex;align-items: stretch;justify-content: center;background-color: white;position: relative;}#sk-container-id-2 div.sk-item::before, #sk-container-id-2 div.sk-parallel-item::before {content: \"\";position: absolute;border-left: 1px solid gray;box-sizing: border-box;top: 0;bottom: 0;left: 50%;z-index: -1;}#sk-container-id-2 div.sk-parallel-item {display: flex;flex-direction: column;z-index: 1;position: relative;background-color: white;}#sk-container-id-2 div.sk-parallel-item:first-child::after {align-self: flex-end;width: 50%;}#sk-container-id-2 div.sk-parallel-item:last-child::after {align-self: flex-start;width: 50%;}#sk-container-id-2 div.sk-parallel-item:only-child::after {width: 0;}#sk-container-id-2 div.sk-dashed-wrapped {border: 1px dashed gray;margin: 0 0.4em 0.5em 0.4em;box-sizing: border-box;padding-bottom: 0.4em;background-color: white;}#sk-container-id-2 div.sk-label label {font-family: monospace;font-weight: bold;display: inline-block;line-height: 1.2em;}#sk-container-id-2 div.sk-label-container {text-align: center;}#sk-container-id-2 div.sk-container {/* jupyter's `normalize.less` sets `[hidden] { display: none; }` but bootstrap.min.css set `[hidden] { display: none !important; }` so we also need the `!important` here to be able to override the default hidden behavior on the sphinx rendered scikit-learn.org. See: https://github.com/scikit-learn/scikit-learn/issues/21755 */display: inline-block !important;position: relative;}#sk-container-id-2 div.sk-text-repr-fallback {display: none;}</style><div id=\"sk-container-id-2\" class=\"sk-top-container\"><div class=\"sk-text-repr-fallback\"><pre>Ridge()</pre><b>In a Jupyter environment, please rerun this cell to show the HTML representation or trust the notebook. <br />On GitHub, the HTML representation is unable to render, please try loading this page with nbviewer.org.</b></div><div class=\"sk-container\" hidden><div class=\"sk-item\"><div class=\"sk-estimator sk-toggleable\"><input class=\"sk-toggleable__control sk-hidden--visually\" id=\"sk-estimator-id-2\" type=\"checkbox\" checked><label for=\"sk-estimator-id-2\" class=\"sk-toggleable__label sk-toggleable__label-arrow\">Ridge</label><div class=\"sk-toggleable__content\"><pre>Ridge()</pre></div></div></div></div></div>"
      ],
      "text/plain": [
       "Ridge()"
      ]
     },
     "execution_count": 46,
     "metadata": {},
     "output_type": "execute_result"
    }
   ],
   "source": [
    "model.fit(X_test,y_test)"
   ]
  },
  {
   "cell_type": "code",
   "execution_count": 47,
   "id": "2be19da2",
   "metadata": {},
   "outputs": [],
   "source": [
    "y_test_pred = model.predict(X_test)"
   ]
  },
  {
   "cell_type": "code",
   "execution_count": null,
   "id": "8926fc47",
   "metadata": {},
   "outputs": [],
   "source": [
    "mae_test = mean_absolute_error(y_test_pred,y_test)\n",
    "mae_test"
   ]
  },
  {
   "cell_type": "markdown",
   "id": "a6560c94",
   "metadata": {},
   "source": [
    "### Most Important Features in Prediction"
   ]
  },
  {
   "cell_type": "code",
   "execution_count": 55,
   "id": "d040a1b0",
   "metadata": {
    "scrolled": true
   },
   "outputs": [],
   "source": [
    "coef = model.coef_\n",
    "feat = X_train.columns"
   ]
  },
  {
   "cell_type": "code",
   "execution_count": 56,
   "id": "a68217ac",
   "metadata": {},
   "outputs": [],
   "source": [
    "feat_imp = pd.Series(coef, index = feat).sort_values(ascending=False, key = abs)"
   ]
  },
  {
   "cell_type": "code",
   "execution_count": 57,
   "id": "92208995",
   "metadata": {},
   "outputs": [
    {
     "data": {
      "text/plain": [
       "<Axes: >"
      ]
     },
     "execution_count": 57,
     "metadata": {},
     "output_type": "execute_result"
    },
    {
     "data": {
      "image/png": "[encoded data removed]",
      "text/plain": [
       "<Figure size 640x480 with 1 Axes>"
      ]
     },
     "metadata": {},
     "output_type": "display_data"
    }
   ],
   "source": [
    "feat_imp.plot(kind=\"barh\")"
   ]
  },
  {
   "cell_type": "markdown",
   "id": "7d9fc625",
   "metadata": {},
   "source": [
    "## Conclusion\n",
    "- The Ridge Regression model did a better job at predicting the price of a house than The Linear Regression model did.\n",
    "\n",
    "- 'Longitude' was the most important feature in predicting the price of a house"
   ]
  }
 ],
 "metadata": {
  "kernelspec": {
   "display_name": "Python 3 (ipykernel)",
   "language": "python",
   "name": "python3"
  },
  "language_info": {
   "codemirror_mode": {
    "name": "ipython",
    "version": 3
   },
   "file_extension": ".py",
   "mimetype": "text/x-python",
   "name": "python",
   "nbconvert_exporter": "python",
   "pygments_lexer": "ipython3",
   "version": "3.10.9"
  }
 },
 "nbformat": 4,
 "nbformat_minor": 5
}
